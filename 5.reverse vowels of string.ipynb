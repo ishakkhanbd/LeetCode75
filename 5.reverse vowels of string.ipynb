{
 "cells": [
  {
   "cell_type": "code",
   "execution_count": null,
   "id": "f0bafdfb",
   "metadata": {},
   "outputs": [],
   "source": [
    "class Solution:\n",
    "    def reverseVowels(self, s: str) -> str:\n",
    "        l=0\n",
    "        r=len(s)-1\n",
    "        vowels=['a','e','i','o','u']\n",
    "        s=list(s)\n",
    "        while l<r:\n",
    "            if s[l].lower() not in vowels:\n",
    "                l+=1\n",
    "            elif s[r].lower() not in vowels:\n",
    "                r-=1\n",
    "            else:\n",
    "                s[l],s[r]=s[r],s[l]\n",
    "                l+=1\n",
    "                r-=1\n",
    "        return \"\".join(s)\n"
   ]
  }
 ],
 "metadata": {
  "kernelspec": {
   "display_name": "Python 3 (ipykernel)",
   "language": "python",
   "name": "python3"
  },
  "language_info": {
   "codemirror_mode": {
    "name": "ipython",
    "version": 3
   },
   "file_extension": ".py",
   "mimetype": "text/x-python",
   "name": "python",
   "nbconvert_exporter": "python",
   "pygments_lexer": "ipython3",
   "version": "3.9.13"
  }
 },
 "nbformat": 4,
 "nbformat_minor": 5
}

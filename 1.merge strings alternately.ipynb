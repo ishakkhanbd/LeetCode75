{
 "cells": [
  {
   "cell_type": "code",
   "execution_count": null,
   "id": "3993b181",
   "metadata": {},
   "outputs": [],
   "source": [
    "#Merge strings alternatively\n",
    "#You are given two strings word1 and word2. Merge the strings by adding letters in alternating order, \n",
    "#tarting with word1. If a string is longer than the other, append the additional letters onto the end \n",
    "#f the merged string.\n",
    "\n",
    "Return the merged string."
   ]
  },
  {
   "cell_type": "code",
   "execution_count": 11,
   "id": "8cd38160",
   "metadata": {},
   "outputs": [],
   "source": [
    "class Solution:\n",
    "    def mergeAlternately(self, word1: str, word2: str) -> str:\n",
    "        m=len(word1)\n",
    "        n=len(word2)\n",
    "        i=0\n",
    "        j=0\n",
    "        result = []\n",
    "        while i<m and j<n:\n",
    "            \n",
    "            result.append(word1[i])\n",
    "            i=i+1\n",
    "            \n",
    "            result.append(word2[j])\n",
    "            j=j+1\n",
    "        \n",
    "        result.append(word1[i:])\n",
    "        result.append(word2[j:])\n",
    "        \n",
    "        return \"\".join(result)"
   ]
  },
  {
   "cell_type": "code",
   "execution_count": 12,
   "id": "f6eaab23",
   "metadata": {},
   "outputs": [
    {
     "ename": "NameError",
     "evalue": "name 'mergeAlternatively' is not defined",
     "output_type": "error",
     "traceback": [
      "\u001b[1;31m---------------------------------------------------------------------------\u001b[0m",
      "\u001b[1;31mNameError\u001b[0m                                 Traceback (most recent call last)",
      "\u001b[1;32m~\\AppData\\Local\\Temp\\ipykernel_16268\\789944345.py\u001b[0m in \u001b[0;36m<module>\u001b[1;34m\u001b[0m\n\u001b[1;32m----> 1\u001b[1;33m \u001b[0mmergeAlternatively\u001b[0m\u001b[1;33m(\u001b[0m\u001b[1;34m'pq'\u001b[0m\u001b[1;33m,\u001b[0m\u001b[1;34m'abcd'\u001b[0m\u001b[1;33m)\u001b[0m\u001b[1;33m\u001b[0m\u001b[1;33m\u001b[0m\u001b[0m\n\u001b[0m",
      "\u001b[1;31mNameError\u001b[0m: name 'mergeAlternatively' is not defined"
     ]
    }
   ],
   "source": [
    "mergeAlternatively('pq','abcd')"
   ]
  },
  {
   "cell_type": "code",
   "execution_count": null,
   "id": "b187b50b",
   "metadata": {},
   "outputs": [],
   "source": []
  },
  {
   "cell_type": "code",
   "execution_count": null,
   "id": "1f0ef3d0",
   "metadata": {},
   "outputs": [],
   "source": []
  },
  {
   "cell_type": "code",
   "execution_count": null,
   "id": "73c4203e",
   "metadata": {},
   "outputs": [],
   "source": []
  }
 ],
 "metadata": {
  "kernelspec": {
   "display_name": "Python 3 (ipykernel)",
   "language": "python",
   "name": "python3"
  },
  "language_info": {
   "codemirror_mode": {
    "name": "ipython",
    "version": 3
   },
   "file_extension": ".py",
   "mimetype": "text/x-python",
   "name": "python",
   "nbconvert_exporter": "python",
   "pygments_lexer": "ipython3",
   "version": "3.9.13"
  }
 },
 "nbformat": 4,
 "nbformat_minor": 5
}

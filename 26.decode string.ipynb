{
 "cells": [
  {
   "cell_type": "code",
   "execution_count": null,
   "id": "df154f49",
   "metadata": {},
   "outputs": [],
   "source": [
    "class Solution(object):\n",
    "    def decodeString(self, s):\n",
    "        stack = []; curNum = 0; curString = ''\n",
    "        for c in s:\n",
    "            if c == '[':\n",
    "                stack.append(curString)\n",
    "                stack.append(curNum)\n",
    "                curString = ''\n",
    "                curNum = 0\n",
    "            elif c == ']':\n",
    "                num = stack.pop()\n",
    "                prevString = stack.pop()\n",
    "                curString = prevString + num*curString\n",
    "            elif c.isdigit():     # curNum*10+int(c) is helpful in keep track of more than 1 digit number\n",
    "                curNum = curNum*10 + int(c)\n",
    "            else:\n",
    "                curString += c\n",
    "        return curString"
   ]
  }
 ],
 "metadata": {
  "kernelspec": {
   "display_name": "Python 3 (ipykernel)",
   "language": "python",
   "name": "python3"
  },
  "language_info": {
   "codemirror_mode": {
    "name": "ipython",
    "version": 3
   },
   "file_extension": ".py",
   "mimetype": "text/x-python",
   "name": "python",
   "nbconvert_exporter": "python",
   "pygments_lexer": "ipython3",
   "version": "3.9.13"
  }
 },
 "nbformat": 4,
 "nbformat_minor": 5
}

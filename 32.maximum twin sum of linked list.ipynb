{
 "cells": [
  {
   "cell_type": "code",
   "execution_count": null,
   "id": "ce3c77cb",
   "metadata": {},
   "outputs": [],
   "source": [
    "# Definition for singly-linked list.\n",
    "# class ListNode:\n",
    "#     def __init__(self, val=0, next=None):\n",
    "#         self.val = val\n",
    "#         self.next = next\n",
    "class Solution:\n",
    "    def pairSum(self, head: Optional[ListNode]) -> int:\n",
    "        # We will push every item till the middle into the stack,\n",
    "        # and after reaching the middle, we will pop one element out\n",
    "        # and sum it with the next element of the linked list.\n",
    "\n",
    "        stack = deque()\n",
    "\n",
    "        # We will use two pointers: Fast and Slow to reach the middle.\n",
    "        # The fast pointer moves twice as fast as the slow pointer, and once\n",
    "        # it reaches the end, the slow pointer will be in the middle of the list.\n",
    "        fast = slow = head\n",
    "        while fast and fast.next:\n",
    "            # Until we reach the end/middle, we will stack every item.\n",
    "            stack.append(slow)\n",
    "\n",
    "            slow = slow.next\n",
    "            fast = fast.next.next\n",
    "\n",
    "        # We continue from slow.next because it stopped at the middle element.\n",
    "        max_sum = 0\n",
    "        while slow:\n",
    "            # Find the maximum between the previous max_sum and the sum of the current slow #node's value\n",
    "            # and the value popped from the stack.\n",
    "            max_sum = max(max_sum, slow.val + stack.pop().val)\n",
    "            slow = slow.next\n",
    "\n",
    "        return max_sum"
   ]
  }
 ],
 "metadata": {
  "kernelspec": {
   "display_name": "Python 3 (ipykernel)",
   "language": "python",
   "name": "python3"
  },
  "language_info": {
   "codemirror_mode": {
    "name": "ipython",
    "version": 3
   },
   "file_extension": ".py",
   "mimetype": "text/x-python",
   "name": "python",
   "nbconvert_exporter": "python",
   "pygments_lexer": "ipython3",
   "version": "3.9.12"
  }
 },
 "nbformat": 4,
 "nbformat_minor": 5
}

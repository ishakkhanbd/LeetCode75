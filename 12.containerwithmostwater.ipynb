{
 "cells": [
  {
   "cell_type": "code",
   "execution_count": null,
   "id": "0548e0f9",
   "metadata": {},
   "outputs": [],
   "source": [
    "class Solution:\n",
    "    def maxArea(self, h: List[int]) -> int:\n",
    "        n = len(h)\n",
    "        l, r = 0, n - 1\n",
    "        ans = 0\n",
    "        while l <= r:\n",
    "            ans = max(ans, (r - l) * min(h[l], h[r]))\n",
    "            if h[l] < h[r]: l += 1\n",
    "            else:           r -= 1\n",
    "        return ans"
   ]
  }
 ],
 "metadata": {
  "kernelspec": {
   "display_name": "Python 3 (ipykernel)",
   "language": "python",
   "name": "python3"
  },
  "language_info": {
   "codemirror_mode": {
    "name": "ipython",
    "version": 3
   },
   "file_extension": ".py",
   "mimetype": "text/x-python",
   "name": "python",
   "nbconvert_exporter": "python",
   "pygments_lexer": "ipython3",
   "version": "3.9.13"
  }
 },
 "nbformat": 4,
 "nbformat_minor": 5
}

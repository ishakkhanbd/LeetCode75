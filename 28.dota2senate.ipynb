{
 "cells": [
  {
   "cell_type": "code",
   "execution_count": null,
   "id": "d9d00d2a",
   "metadata": {},
   "outputs": [],
   "source": [
    "from collections import deque\n",
    "\n",
    "class Solution:\n",
    "    def predictPartyVictory(self, senate: str) -> str:\n",
    "        n = len(senate)\n",
    "        radiant = deque()\n",
    "        dire = deque()\n",
    "        for i, s in enumerate(senate):\n",
    "            if s == 'R':\n",
    "                radiant.append(i)\n",
    "            else:\n",
    "                dire.append(i)\n",
    "        while radiant and dire:\n",
    "            r_idx = radiant.popleft()\n",
    "            d_idx = dire.popleft()\n",
    "            if r_idx < d_idx:\n",
    "                radiant.append(r_idx + n)\n",
    "            else:\n",
    "                dire.append(d_idx + n)\n",
    "        return \"Radiant\" if radiant else \"Dire\""
   ]
  },
  {
   "cell_type": "code",
   "execution_count": null,
   "id": "8c038db8",
   "metadata": {},
   "outputs": [],
   "source": []
  },
  {
   "cell_type": "code",
   "execution_count": null,
   "id": "957cdf78",
   "metadata": {},
   "outputs": [],
   "source": []
  },
  {
   "cell_type": "code",
   "execution_count": null,
   "id": "3d7f2ee4",
   "metadata": {},
   "outputs": [],
   "source": []
  },
  {
   "cell_type": "code",
   "execution_count": null,
   "id": "4d7c2dbc",
   "metadata": {},
   "outputs": [],
   "source": []
  }
 ],
 "metadata": {
  "kernelspec": {
   "display_name": "Python 3 (ipykernel)",
   "language": "python",
   "name": "python3"
  },
  "language_info": {
   "codemirror_mode": {
    "name": "ipython",
    "version": 3
   },
   "file_extension": ".py",
   "mimetype": "text/x-python",
   "name": "python",
   "nbconvert_exporter": "python",
   "pygments_lexer": "ipython3",
   "version": "3.9.13"
  }
 },
 "nbformat": 4,
 "nbformat_minor": 5
}

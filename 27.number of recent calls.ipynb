{
 "cells": [
  {
   "cell_type": "code",
   "execution_count": null,
   "id": "53cc9966",
   "metadata": {},
   "outputs": [],
   "source": [
    "class RecentCounter:\n",
    "    def __init__(self):\n",
    "        self.queue = deque() \n",
    "    def ping(self, t: int) -> int:\n",
    "        self.queue.append(t) \n",
    "        while self.queue[0] < t - 3000: \n",
    "            self.queue.popleft() \n",
    "        return len(self.queue)  "
   ]
  },
  {
   "cell_type": "code",
   "execution_count": null,
   "id": "e5573c2f",
   "metadata": {},
   "outputs": [],
   "source": []
  },
  {
   "cell_type": "code",
   "execution_count": null,
   "id": "0154aacc",
   "metadata": {},
   "outputs": [],
   "source": []
  },
  {
   "cell_type": "code",
   "execution_count": null,
   "id": "f531fa5f",
   "metadata": {},
   "outputs": [],
   "source": []
  }
 ],
 "metadata": {
  "kernelspec": {
   "display_name": "Python 3 (ipykernel)",
   "language": "python",
   "name": "python3"
  },
  "language_info": {
   "codemirror_mode": {
    "name": "ipython",
    "version": 3
   },
   "file_extension": ".py",
   "mimetype": "text/x-python",
   "name": "python",
   "nbconvert_exporter": "python",
   "pygments_lexer": "ipython3",
   "version": "3.9.13"
  }
 },
 "nbformat": 4,
 "nbformat_minor": 5
}

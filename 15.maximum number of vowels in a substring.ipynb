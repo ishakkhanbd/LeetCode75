{
 "cells": [
  {
   "cell_type": "code",
   "execution_count": null,
   "id": "0ea43b4b",
   "metadata": {},
   "outputs": [],
   "source": [
    "class Solution:\n",
    "    def maxVowels(self, s: str, k: int) -> int:\n",
    "        vowels = \"aeiou\"\n",
    "        window=res=0\n",
    "        for i in range(len(s)):\n",
    "            window+=s[i] in vowels\n",
    "            if i>=k:\n",
    "                window-=s[i-k] in vowels\n",
    "            res = max(res,window)\n",
    "        return res"
   ]
  }
 ],
 "metadata": {
  "kernelspec": {
   "display_name": "Python 3 (ipykernel)",
   "language": "python",
   "name": "python3"
  },
  "language_info": {
   "codemirror_mode": {
    "name": "ipython",
    "version": 3
   },
   "file_extension": ".py",
   "mimetype": "text/x-python",
   "name": "python",
   "nbconvert_exporter": "python",
   "pygments_lexer": "ipython3",
   "version": "3.9.13"
  }
 },
 "nbformat": 4,
 "nbformat_minor": 5
}

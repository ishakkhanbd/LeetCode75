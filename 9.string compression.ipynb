{
 "cells": [
  {
   "cell_type": "code",
   "execution_count": null,
   "id": "feaa5046",
   "metadata": {},
   "outputs": [],
   "source": [
    "class Solution:\n",
    "    def compress(self, chars: List[str]) -> int:\n",
    "        i=0\n",
    "        res=0\n",
    "        while i<len(chars):\n",
    "            group_length = 1\n",
    "            while (i+group_length)<len(chars) and chars[i+group_length] == chars[i]:\n",
    "                group_length +=1\n",
    "            chars[res]=chars[i]\n",
    "            res+=1\n",
    "            if group_length>1:\n",
    "                str_repr = str(group_length)\n",
    "                chars[res:res+len(str_repr)]=list(str_repr)\n",
    "                res+=len(str_repr)\n",
    "            i+=group_length\n",
    "        return res"
   ]
  }
 ],
 "metadata": {
  "kernelspec": {
   "display_name": "Python 3 (ipykernel)",
   "language": "python",
   "name": "python3"
  },
  "language_info": {
   "codemirror_mode": {
    "name": "ipython",
    "version": 3
   },
   "file_extension": ".py",
   "mimetype": "text/x-python",
   "name": "python",
   "nbconvert_exporter": "python",
   "pygments_lexer": "ipython3",
   "version": "3.9.13"
  }
 },
 "nbformat": 4,
 "nbformat_minor": 5
}

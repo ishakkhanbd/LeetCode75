{
 "cells": [
  {
   "cell_type": "code",
   "execution_count": null,
   "id": "3187d55d",
   "metadata": {},
   "outputs": [],
   "source": [
    "class Solution:\n",
    "    def closeStrings(self, word1: str, word2: str) -> bool:\n",
    "        c1=Counter(word1)\n",
    "        c2=Counter(word2)\n",
    "        n1=Counter(c1.values())\n",
    "        n2=Counter(c2.values())\n",
    "        return c1==c2 or (n1==n2 and set(word1)==set(word2))"
   ]
  },
  {
   "cell_type": "code",
   "execution_count": null,
   "id": "5d0b4102",
   "metadata": {},
   "outputs": [],
   "source": []
  },
  {
   "cell_type": "code",
   "execution_count": null,
   "id": "90a60123",
   "metadata": {},
   "outputs": [],
   "source": []
  },
  {
   "cell_type": "code",
   "execution_count": null,
   "id": "20e8361c",
   "metadata": {},
   "outputs": [],
   "source": []
  },
  {
   "cell_type": "code",
   "execution_count": null,
   "id": "d55f846e",
   "metadata": {},
   "outputs": [],
   "source": []
  }
 ],
 "metadata": {
  "kernelspec": {
   "display_name": "Python 3 (ipykernel)",
   "language": "python",
   "name": "python3"
  },
  "language_info": {
   "codemirror_mode": {
    "name": "ipython",
    "version": 3
   },
   "file_extension": ".py",
   "mimetype": "text/x-python",
   "name": "python",
   "nbconvert_exporter": "python",
   "pygments_lexer": "ipython3",
   "version": "3.9.13"
  }
 },
 "nbformat": 4,
 "nbformat_minor": 5
}

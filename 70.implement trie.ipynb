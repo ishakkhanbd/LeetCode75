{
 "cells": [
  {
   "cell_type": "code",
   "execution_count": null,
   "id": "4a17d9b8",
   "metadata": {},
   "outputs": [],
   "source": [
    "class Trie:\n",
    "\n",
    "    def __init__(self):\n",
    "        self.root={}\n",
    "        \n",
    "    def insert(self, word: str) -> None:\n",
    "\n",
    "        cur=self.root\n",
    "\n",
    "        for letter in word:\n",
    "            if letter not in cur:\n",
    "                cur[letter]={}\n",
    "            cur=cur[letter]\n",
    "\n",
    "        cur['*']=''\n",
    "\n",
    "    def search(self, word: str) -> bool:\n",
    "\n",
    "        cur=self.root\n",
    "        for letter in word:\n",
    "            if letter not in cur:\n",
    "                return False\n",
    "            cur=cur[letter]\n",
    "\n",
    "        return '*' in cur\n",
    "        \n",
    "    def startsWith(self, prefix: str) -> bool:\n",
    "\n",
    "        cur=self.root\n",
    "        for letter in prefix:\n",
    "            if letter not in cur:\n",
    "                return False\n",
    "            cur=cur[letter]\n",
    "\n",
    "        return True"
   ]
  }
 ],
 "metadata": {
  "kernelspec": {
   "display_name": "Python 3 (ipykernel)",
   "language": "python",
   "name": "python3"
  },
  "language_info": {
   "codemirror_mode": {
    "name": "ipython",
    "version": 3
   },
   "file_extension": ".py",
   "mimetype": "text/x-python",
   "name": "python",
   "nbconvert_exporter": "python",
   "pygments_lexer": "ipython3",
   "version": "3.9.12"
  }
 },
 "nbformat": 4,
 "nbformat_minor": 5
}

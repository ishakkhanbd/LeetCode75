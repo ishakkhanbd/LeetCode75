{
 "cells": [
  {
   "cell_type": "code",
   "execution_count": null,
   "id": "509cdeaf",
   "metadata": {},
   "outputs": [],
   "source": [
    "class Solution:\n",
    "    def asteroidCollision(self, asteroids: List[int]) -> List[int]:\n",
    "        stack = []\n",
    "        for a in asteroids:\n",
    "            while stack and stack[-1]>0>a:\n",
    "                if stack[-1]<abs(a):\n",
    "                    stack.pop()\n",
    "                    continue\n",
    "                elif stack[-1]==abs(a):\n",
    "                    stack.pop()\n",
    "                break\n",
    "            else:\n",
    "                stack.append(a)\n",
    "        return stack"
   ]
  }
 ],
 "metadata": {
  "kernelspec": {
   "display_name": "Python 3 (ipykernel)",
   "language": "python",
   "name": "python3"
  },
  "language_info": {
   "codemirror_mode": {
    "name": "ipython",
    "version": 3
   },
   "file_extension": ".py",
   "mimetype": "text/x-python",
   "name": "python",
   "nbconvert_exporter": "python",
   "pygments_lexer": "ipython3",
   "version": "3.9.13"
  }
 },
 "nbformat": 4,
 "nbformat_minor": 5
}

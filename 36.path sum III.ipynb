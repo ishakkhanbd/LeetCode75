{
 "cells": [
  {
   "cell_type": "code",
   "execution_count": null,
   "id": "510d50ed",
   "metadata": {},
   "outputs": [],
   "source": [
    "# Definition for a binary tree node.\n",
    "# class TreeNode:\n",
    "#     def __init__(self, val=0, left=None, right=None):\n",
    "#         self.val = val\n",
    "#         self.left = left\n",
    "#         self.right = right\n",
    "class Solution:\n",
    "    def pathSum(self, root: Optional[TreeNode], targetSum: int) -> int:\n",
    "        # Sum up from root to each depth and check if it's equal to targetSum\n",
    "        def dfs_calc_sum(root, path):\n",
    "            if not root:\n",
    "                return\n",
    "            path += root.val\n",
    "            if path == targetSum:\n",
    "                nonlocal sum_count\n",
    "                sum_count += 1\n",
    "            dfs_calc_sum(root.left, path)\n",
    "            dfs_calc_sum(root.right, path)\n",
    "\n",
    "        # Send each node to dfs_calc_sum function\n",
    "        def patrol(root):\n",
    "            if not root:\n",
    "                return\n",
    "            dfs_calc_sum(root, 0)\n",
    "            patrol(root.left)\n",
    "            patrol(root.right)\n",
    "\n",
    "        sum_count = 0\n",
    "        patrol(root)\n",
    "        return sum_count"
   ]
  }
 ],
 "metadata": {
  "kernelspec": {
   "display_name": "Python 3 (ipykernel)",
   "language": "python",
   "name": "python3"
  },
  "language_info": {
   "codemirror_mode": {
    "name": "ipython",
    "version": 3
   },
   "file_extension": ".py",
   "mimetype": "text/x-python",
   "name": "python",
   "nbconvert_exporter": "python",
   "pygments_lexer": "ipython3",
   "version": "3.9.12"
  }
 },
 "nbformat": 4,
 "nbformat_minor": 5
}

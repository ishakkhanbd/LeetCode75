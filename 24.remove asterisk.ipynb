{
 "cells": [
  {
   "cell_type": "code",
   "execution_count": null,
   "id": "d3028e82",
   "metadata": {},
   "outputs": [],
   "source": [
    "class Solution:\n",
    "    def removeStars(self, s: str) -> str:\n",
    "        ans=[]\n",
    "        for i in s:\n",
    "            if i=='*':\n",
    "                ans.pop()\n",
    "            else:\n",
    "                ans+=[i]\n",
    "        return \"\".join(ans)"
   ]
  }
 ],
 "metadata": {
  "kernelspec": {
   "display_name": "Python 3 (ipykernel)",
   "language": "python",
   "name": "python3"
  },
  "language_info": {
   "codemirror_mode": {
    "name": "ipython",
    "version": 3
   },
   "file_extension": ".py",
   "mimetype": "text/x-python",
   "name": "python",
   "nbconvert_exporter": "python",
   "pygments_lexer": "ipython3",
   "version": "3.9.13"
  }
 },
 "nbformat": 4,
 "nbformat_minor": 5
}

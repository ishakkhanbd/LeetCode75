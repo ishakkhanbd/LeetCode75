{
 "cells": [
  {
   "cell_type": "code",
   "execution_count": null,
   "id": "421b21ea",
   "metadata": {},
   "outputs": [],
   "source": [
    "class Solution:\n",
    "    def findCircleNum(self, isConnected: List[List[int]]) -> int:\n",
    "        visited = set()  # Initialize visited set\n",
    "        \n",
    "        # Define depth-first search (dfs) function\n",
    "        def dfs(isConnected, visited, i):\n",
    "            if i in visited:  # If already visited, return 0\n",
    "                return 0\n",
    "            visited.add(i)  # Add i to visited set\n",
    "            for j in range(len(isConnected[i])):  # Check for direct connections\n",
    "                if isConnected[i][j] == 1:\n",
    "                    dfs(isConnected, visited, j)  # Recursively call dfs on j\n",
    "            return 1  # Return 1 to represent current province\n",
    "        \n",
    "        provinces = 0  # Initialize provinces count\n",
    "        for i in range(len(isConnected)):  # Loop through all cities\n",
    "            provinces += dfs(isConnected, visited, i)  # Call dfs on city i and add result to provinces\n",
    "        return provinces  # Return total number of provinces"
   ]
  }
 ],
 "metadata": {
  "kernelspec": {
   "display_name": "Python 3 (ipykernel)",
   "language": "python",
   "name": "python3"
  },
  "language_info": {
   "codemirror_mode": {
    "name": "ipython",
    "version": 3
   },
   "file_extension": ".py",
   "mimetype": "text/x-python",
   "name": "python",
   "nbconvert_exporter": "python",
   "pygments_lexer": "ipython3",
   "version": "3.9.12"
  }
 },
 "nbformat": 4,
 "nbformat_minor": 5
}

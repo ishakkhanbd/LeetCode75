{
 "cells": [
  {
   "cell_type": "code",
   "execution_count": null,
   "id": "726214d5",
   "metadata": {},
   "outputs": [],
   "source": [
    "class Solution:\n",
    "    def longestSubarray(self, nums: List[int]) -> int:\n",
    "        left = 0\n",
    "        zeros = 0\n",
    "        ans = 0\n",
    "        n=len(nums)\n",
    "\n",
    "        for right in range(n):\n",
    "            if nums[right]==0:\n",
    "                zeros+=1\n",
    "            while zeros>1:\n",
    "                if nums[left]==0:\n",
    "                    zeros-=1\n",
    "                left+=1\n",
    "            ans = max(ans, right-left+1-zeros)\n",
    "        return ans-1 if ans==n else ans"
   ]
  }
 ],
 "metadata": {
  "kernelspec": {
   "display_name": "Python 3 (ipykernel)",
   "language": "python",
   "name": "python3"
  },
  "language_info": {
   "codemirror_mode": {
    "name": "ipython",
    "version": 3
   },
   "file_extension": ".py",
   "mimetype": "text/x-python",
   "name": "python",
   "nbconvert_exporter": "python",
   "pygments_lexer": "ipython3",
   "version": "3.9.13"
  }
 },
 "nbformat": 4,
 "nbformat_minor": 5
}

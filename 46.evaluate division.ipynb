{
 "cells": [
  {
   "cell_type": "code",
   "execution_count": null,
   "id": "9d71aad6",
   "metadata": {},
   "outputs": [],
   "source": [
    "class Solution:\n",
    "    def calcEquation(self, equations: List[List[str]], values: List[float], queries: List[List[str]]) -> List[float]:\n",
    "\n",
    "        #   No division by zero\n",
    "        adjacencyList = collections.defaultdict(list)   # A defaultdict is a dictionary-like object that automatically initializes values for nonexistent keys\n",
    "\n",
    "        for i,eq in enumerate(equations):\n",
    "            a,b = eq    # Each equation has two values\n",
    "            adjacencyList[a].append([b,values[i]])  # Append [b,value(a/b)]\n",
    "            adjacencyList[b].append([a,1/values[i]]) # b/a will be equal to 1 / (a/b)\n",
    "\n",
    "        print(adjacencyList)\n",
    "        def bfs(src,trg):\n",
    "            if src not in adjacencyList or trg not in adjacencyList:\n",
    "                return -1\n",
    "            \n",
    "            q = deque()\n",
    "            visited = set()\n",
    "\n",
    "            q.append([src,1])   # I'll append a node with the weight upto that node\n",
    "            visited.add(src)\n",
    "            \n",
    "            while q:\n",
    "                n , w = q.popleft() # Neighbor, Weight\n",
    "\n",
    "                if n == trg:\n",
    "                    return w\n",
    "\n",
    "                for neighbor,weight in adjacencyList[n]:    # Iterating over the adjacency List of that particular node\n",
    "                    if neighbor not in visited:\n",
    "                        q.append([neighbor, w * weight])\n",
    "                        visited.add(n)\n",
    "\n",
    "            return -1\n",
    "\n",
    "        return [bfs(query[0],query[1]) for query in queries]\n",
    "        "
   ]
  }
 ],
 "metadata": {
  "kernelspec": {
   "display_name": "Python 3 (ipykernel)",
   "language": "python",
   "name": "python3"
  },
  "language_info": {
   "codemirror_mode": {
    "name": "ipython",
    "version": 3
   },
   "file_extension": ".py",
   "mimetype": "text/x-python",
   "name": "python",
   "nbconvert_exporter": "python",
   "pygments_lexer": "ipython3",
   "version": "3.9.12"
  }
 },
 "nbformat": 4,
 "nbformat_minor": 5
}
